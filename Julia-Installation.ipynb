{
 "cells": [
  {
   "cell_type": "markdown",
   "metadata": {},
   "source": [
    "# Install Julia \n",
    "\n",
    "\n",
    "-  1). Download Julia from website https://julialang.org/\n",
    "-  2). Install files\n",
    "-  3). Julia installed now try some code e.g. \n",
    "     <code> println(\"Hello\")</code>\n",
    "-  4). <code> Pkg.add(\"IJulia\")</code> # in Julia CUI\n",
    "-  5). if error came \"Pkg not installed\" then use \n",
    "       <code>import Pkg</code>\n",
    "-  6). Again add package <code>Pkg.add(\"IJulia\")</code>\n",
    "-  7). Go & try code in Jupyter via Anaconda ( Anaccoda need to installed first than Julia)\n",
    "-  8). <code>using Julia</code> # in Julia CUI\n",
    "-  9). <code>notebook()</code> # Install notebook # in Julia CUI\n",
    "\n"
   ]
  },
  {
   "cell_type": "code",
   "execution_count": null,
   "metadata": {},
   "outputs": [],
   "source": []
  }
 ],
 "metadata": {
  "kernelspec": {
   "display_name": "Python 3",
   "language": "python",
   "name": "python3"
  },
  "language_info": {
   "codemirror_mode": {
    "name": "ipython",
    "version": 3
   },
   "file_extension": ".py",
   "mimetype": "text/x-python",
   "name": "python",
   "nbconvert_exporter": "python",
   "pygments_lexer": "ipython3",
   "version": "3.6.5"
  }
 },
 "nbformat": 4,
 "nbformat_minor": 2
}
